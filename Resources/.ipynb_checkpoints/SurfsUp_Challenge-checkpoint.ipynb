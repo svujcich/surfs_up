{
 "cells": [
  {
   "cell_type": "code",
   "execution_count": 1,
   "metadata": {},
   "outputs": [],
   "source": [
    "# Dependencies\n",
    "import numpy as np\n",
    "import pandas as pd\n",
    "import datetime as dt\n",
    "\n",
    "%matplotlib inline\n",
    "from matplotlib import style\n",
    "style.use('fivethirtyeight')\n",
    "import matplotlib.pyplot as plt\n",
    "\n",
    "# Python SQL toolkit and Object Relational Mapper\n",
    "import sqlalchemy\n",
    "from sqlalchemy.ext.automap import automap_base\n",
    "from sqlalchemy.orm import Session\n",
    "from sqlalchemy import create_engine, func\n"
   ]
  },
  {
   "cell_type": "code",
   "execution_count": 2,
   "metadata": {},
   "outputs": [],
   "source": [
    "engine = create_engine(\"sqlite:///hawaii.sqlite\")\n",
    "\n",
    "# reflect an existing database into a new model\n",
    "Base = automap_base()\n",
    "# reflect the tables\n",
    "Base.prepare(engine, reflect=True)"
   ]
  },
  {
   "cell_type": "code",
   "execution_count": 3,
   "metadata": {},
   "outputs": [
    {
     "data": {
      "text/plain": [
       "['measurement', 'station']"
      ]
     },
     "execution_count": 3,
     "metadata": {},
     "output_type": "execute_result"
    }
   ],
   "source": [
    "# We can view all of the classes that automap found\n",
    "Base.classes.keys()"
   ]
  },
  {
   "cell_type": "code",
   "execution_count": 4,
   "metadata": {},
   "outputs": [],
   "source": [
    "# Save references to each table\n",
    "Measurement = Base.classes.measurement\n",
    "Station = Base.classes.station"
   ]
  },
  {
   "cell_type": "code",
   "execution_count": 5,
   "metadata": {},
   "outputs": [],
   "source": [
    "# Create our session (link) from Python to the DB\n",
    "session = Session(engine)"
   ]
  },
  {
   "cell_type": "markdown",
   "metadata": {},
   "source": [
    "## D1: Determine the Summary Statistics for June"
   ]
  },
  {
   "cell_type": "code",
   "execution_count": 6,
   "metadata": {},
   "outputs": [],
   "source": [
    "# 1. Import the sqlalchemy extract function.\n",
    "from sqlalchemy import extract\n",
    "\n",
    "# 2. Write a query that filters the Measurement table to retrieve the temperatures for the month of June. \n",
    "june_temps = session.query(Measurement).filter(extract('month', Measurement.date) == 6)"
   ]
  },
  {
   "cell_type": "code",
   "execution_count": 7,
   "metadata": {},
   "outputs": [
    {
     "name": "stdout",
     "output_type": "stream",
     "text": [
      "[78.0, 76.0, 78.0, 76.0, 77.0, 78.0, 77.0, 78.0, 78.0, 79.0, 78.0, 78.0, 78.0, 77.0, 78.0, 78.0, 77.0, 77.0, 82.0, 78.0, 78.0, 78.0, 78.0, 78.0, 77.0, 76.0, 78.0, 78.0, 78.0, 78.0, 77.0, 78.0, 73.0, 70.0, 76.0, 77.0, 77.0, 77.0, 77.0, 78.0, 77.0, 77.0, 78.0, 78.0, 77.0, 78.0, 78.0, 75.0, 76.0, 76.0, 77.0, 78.0, 76.0, 77.0, 75.0, 77.0, 76.0, 76.0, 75.0, 77.0, 77.0, 76.0, 78.0, 77.0, 76.0, 77.0, 76.0, 76.0, 77.0, 77.0, 78.0, 77.0, 77.0, 77.0, 76.0, 75.0, 76.0, 76.0, 77.0, 76.0, 73.0, 73.0, 75.0, 77.0, 76.0, 77.0, 79.0, 78.0, 79.0, 78.0, 78.0, 79.0, 77.0, 77.0, 77.0, 77.0, 77.0, 78.0, 77.0, 76.0, 78.0, 78.0, 77.0, 78.0, 78.0, 73.0, 76.0, 77.0, 75.0, 76.0, 74.0, 75.0, 77.0, 76.0, 77.0, 78.0, 79.0, 77.0, 78.0, 79.0, 78.0, 78.0, 78.0, 78.0, 79.0, 79.0, 82.0, 80.0, 79.0, 79.0, 78.0, 78.0, 77.0, 78.0, 78.0, 73.0, 75.0, 75.0, 76.0, 84.0, 79.0, 76.0, 79.0, 79.0, 77.0, 79.0, 78.0, 78.0, 79.0, 77.0, 79.0, 78.0, 78.0, 78.0, 79.0, 77.0, 78.0, 78.0, 78.0, 78.0, 79.0, 79.0, 77.0, 78.0, 78.0, 78.0, 79.0, 79.0, 77.0, 79.0, 79.0, 79.0, 81.0, 76.0, 80.0, 78.0, 76.0, 71.0, 71.0, 74.0, 76.0, 78.0, 77.0, 77.0, 73.0, 77.0, 78.0, 78.0, 80.0, 79.0, 78.0, 77.0, 76.0, 77.0, 77.0, 78.0, 80.0, 79.0, 79.0, 77.0, 78.0, 79.0, 80.0, 76.0, 79.0, 80.0, 79.0, 79.0, 79.0, 79.0, 80.0, 79.0, 79.0, 80.0, 80.0, 77.0, 79.0, 83.0, 80.0, 80.0, 78.0, 79.0, 80.0, 77.0, 80.0, 78.0, 79.0, 80.0, 78.0, 80.0, 80.0, 81.0, 80.0, 79.0, 79.0, 75.0, 74.0, 76.0, 75.0, 75.0, 74.0, 75.0, 75.0, 75.0, 75.0, 75.0, 83.0, 75.0, 76.0, 73.0, 74.0, 74.0, 75.0, 70.0, 74.0, 75.0, 75.0, 75.0, 75.0, 75.0, 74.0, 72.0, 76.0, 73.0, 75.0, 76.0, 74.0, 75.0, 71.0, 69.0, 69.0, 74.0, 71.0, 74.0, 74.0, 75.0, 73.0, 73.0, 73.0, 75.0, 75.0, 74.0, 74.0, 75.0, 74.0, 73.0, 72.0, 74.0, 72.0, 75.0, 76.0, 74.0, 74.0, 74.0, 74.0, 74.0, 71.0, 71.0, 75.0, 72.0, 72.0, 73.0, 73.0, 73.0, 74.0, 73.0, 72.0, 72.0, 70.0, 72.0, 72.0, 72.0, 74.0, 73.0, 73.0, 70.0, 73.0, 72.0, 73.0, 69.0, 72.0, 71.0, 71.0, 73.0, 73.0, 72.0, 75.0, 75.0, 75.0, 75.0, 74.0, 74.0, 74.0, 75.0, 75.0, 74.0, 75.0, 75.0, 74.0, 72.0, 74.0, 74.0, 74.0, 74.0, 74.0, 72.0, 70.0, 75.0, 74.0, 71.0, 71.0, 70.0, 73.0, 71.0, 71.0, 77.0, 77.0, 74.0, 73.0, 75.0, 75.0, 74.0, 74.0, 75.0, 75.0, 72.0, 74.0, 76.0, 76.0, 75.0, 75.0, 74.0, 72.0, 74.0, 75.0, 70.0, 71.0, 72.0, 71.0, 73.0, 74.0, 72.0, 74.0, 76.0, 72.0, 75.0, 75.0, 72.0, 70.0, 76.0, 78.0, 72.0, 74.0, 74.0, 72.0, 71.0, 79.0, 79.0, 76.0, 75.0, 72.0, 74.0, 76.0, 76.0, 77.0, 75.0, 76.0, 75.0, 75.0, 76.0, 76.0, 74.0, 70.0, 69.0, 70.0, 68.0, 70.0, 74.0, 75.0, 74.0, 71.0, 73.0, 75.0, 74.0, 76.0, 76.0, 76.0, 76.0, 75.0, 75.0, 75.0, 74.0, 73.0, 76.0, 74.0, 78.0, 71.0, 75.0, 75.0, 74.0, 77.0, 77.0, 76.0, 76.0, 76.0, 78.0, 76.0, 75.0, 75.0, 76.0, 78.0, 75.0, 73.0, 76.0, 76.0, 76.0, 77.0, 76.0, 77.0, 72.0, 77.0, 75.0, 82.0, 77.0, 76.0, 74.0, 73.0, 77.0, 77.0, 77.0, 76.0, 74.0, 73.0, 72.0, 74.0, 73.0, 72.0, 75.0, 74.0, 75.0, 73.0, 75.0, 76.0, 74.0, 74.0, 73.0, 73.0, 76.0, 75.0, 70.0, 75.0, 73.0, 74.0, 74.0, 74.0, 74.0, 70.0, 75.0, 74.0, 73.0, 74.0, 72.0, 73.0, 67.0, 69.0, 76.0, 73.0, 70.0, 72.0, 74.0, 72.0, 72.0, 75.0, 73.0, 73.0, 72.0, 74.0, 76.0, 72.0, 74.0, 70.0, 74.0, 74.0, 74.0, 71.0, 75.0, 75.0, 76.0, 77.0, 75.0, 74.0, 75.0, 76.0, 78.0, 78.0, 76.0, 78.0, 76.0, 76.0, 78.0, 79.0, 77.0, 76.0, 77.0, 77.0, 76.0, 78.0, 76.0, 76.0, 77.0, 71.0, 74.0, 72.0, 77.0, 77.0, 78.0, 77.0, 77.0, 76.0, 75.0, 79.0, 75.0, 73.0, 76.0, 78.0, 77.0, 78.0, 76.0, 75.0, 76.0, 77.0, 74.0, 78.0, 77.0, 77.0, 74.0, 74.0, 78.0, 79.0, 79.0, 78.0, 75.0, 76.0, 78.0, 78.0, 74.0, 78.0, 77.0, 76.0, 78.0, 78.0, 78.0, 78.0, 74.0, 79.0, 77.0, 73.0, 79.0, 79.0, 78.0, 77.0, 78.0, 78.0, 80.0, 80.0, 79.0, 74.0, 71.0, 74.0, 75.0, 75.0, 74.0, 76.0, 75.0, 77.0, 77.0, 79.0, 79.0, 78.0, 79.0, 73.0, 78.0, 79.0, 80.0, 76.0, 79.0, 79.0, 77.0, 80.0, 79.0, 78.0, 78.0, 79.0, 78.0, 81.0, 78.0, 80.0, 79.0, 81.0, 80.0, 81.0, 79.0, 81.0, 78.0, 79.0, 79.0, 75.0, 79.0, 78.0, 80.0, 78.0, 77.0, 78.0, 79.0, 76.0, 80.0, 76.0, 81.0, 77.0, 76.0, 77.0, 75.0, 76.0, 79.0, 79.0, 77.0, 76.0, 77.0, 76.0, 73.0, 76.0, 77.0, 77.0, 78.0, 77.0, 76.0, 78.0, 78.0, 75.0, 77.0, 65.0, 76.0, 74.0, 76.0, 76.0, 77.0, 77.0, 76.0, 77.0, 76.0, 77.0, 74.0, 76.0, 73.0, 75.0, 76.0, 75.0, 76.0, 75.0, 74.0, 74.0, 74.0, 74.0, 76.0, 76.0, 77.0, 77.0, 78.0, 73.0, 75.0, 72.0, 76.0, 76.0, 73.0, 74.0, 72.0, 76.0, 76.0, 76.0, 78.0, 78.0, 78.0, 78.0, 75.0, 77.0, 73.0, 78.0, 75.0, 73.0, 77.0, 80.0, 70.0, 78.0, 72.0, 78.0, 72.0, 78.0, 77.0, 79.0, 77.0, 78.0, 74.0, 79.0, 79.0, 79.0, 79.0, 77.0, 79.0, 78.0, 80.0, 81.0, 81.0, 78.0, 77.0, 78.0, 79.0, 77.0, 79.0, 80.0, 79.0, 78.0, 79.0, 79.0, 79.0, 81.0, 64.0, 65.0, 75.0, 76.0, 78.0, 77.0, 75.0, 78.0, 81.0, 78.0, 76.0, 73.0, 74.0, 76.0, 78.0, 79.0, 78.0, 72.0, 78.0, 80.0, 81.0, 79.0, 78.0, 80.0, 80.0, 78.0, 80.0, 81.0, 78.0, 77.0, 78.0, 78.0, 77.0, 76.0, 81.0, 76.0, 82.0, 80.0, 80.0, 79.0, 74.0, 69.0, 70.0, 67.0, 70.0, 73.0, 73.0, 72.0, 72.0, 77.0, 70.0, 78.0, 73.0, 75.0, 70.0, 74.0, 77.0, 69.0, 73.0, 73.0, 74.0, 73.0, 72.0, 75.0, 73.0, 76.0, 74.0, 76.0, 73.0, 76.0, 76.0, 78.0, 75.0, 77.0, 75.0, 73.0, 76.0, 71.0, 71.0, 76.0, 76.0, 76.0, 73.0, 78.0, 77.0, 77.0, 77.0, 78.0, 78.0, 76.0, 76.0, 79.0, 74.0, 75.0, 76.0, 75.0, 73.0, 76.0, 78.0, 76.0, 79.0, 77.0, 76.0, 74.0, 75.0, 76.0, 76.0, 76.0, 79.0, 76.0, 72.0, 71.0, 72.0, 76.0, 74.0, 75.0, 76.0, 77.0, 76.0, 75.0, 76.0, 76.0, 76.0, 75.0, 76.0, 76.0, 79.0, 74.0, 73.0, 75.0, 74.0, 75.0, 76.0, 72.0, 74.0, 74.0, 75.0, 75.0, 74.0, 75.0, 77.0, 75.0, 74.0, 75.0, 74.0, 75.0, 73.0, 75.0, 76.0, 76.0, 76.0, 79.0, 74.0, 78.0, 80.0, 75.0, 72.0, 72.0, 74.0, 78.0, 76.0, 77.0, 72.0, 72.0, 73.0, 75.0, 79.0, 81.0, 76.0, 76.0, 77.0, 78.0, 79.0, 79.0, 75.0, 79.0, 79.0, 75.0, 77.0, 81.0, 76.0, 75.0, 78.0, 81.0, 76.0, 76.0, 76.0, 72.0, 73.0, 74.0, 74.0, 75.0, 73.0, 73.0, 76.0, 73.0, 79.0, 78.0, 76.0, 76.0, 76.0, 77.0, 79.0, 80.0, 78.0, 76.0, 78.0, 78.0, 77.0, 79.0, 79.0, 75.0, 76.0, 77.0, 74.0, 77.0, 76.0, 76.0, 75.0, 74.0, 79.0, 76.0, 74.0, 76.0, 77.0, 78.0, 77.0, 75.0, 75.0, 80.0, 77.0, 77.0, 77.0, 80.0, 76.0, 78.0, 77.0, 79.0, 79.0, 77.0, 75.0, 76.0, 78.0, 78.0, 80.0, 78.0, 79.0, 79.0, 77.0, 77.0, 81.0, 75.0, 72.0, 75.0, 75.0, 75.0, 75.0, 73.0, 78.0, 77.0, 80.0, 72.0, 78.0, 78.0, 77.0, 78.0, 79.0, 80.0, 76.0, 77.0, 79.0, 79.0, 77.0, 79.0, 80.0, 80.0, 77.0, 79.0, 81.0, 78.0, 80.0, 79.0, 79.0, 81.0, 79.0, 81.0, 78.0, 78.0, 78.0, 77.0, 78.0, 75.0, 81.0, 80.0, 77.0, 80.0, 78.0, 80.0, 77.0, 78.0, 78.0, 80.0, 80.0, 79.0, 82.0, 80.0, 81.0, 81.0, 79.0, 78.0, 75.0, 71.0, 71.0, 72.0, 72.0, 76.0, 77.0, 71.0, 73.0, 73.0, 75.0, 81.0, 74.0, 77.0, 70.0, 69.0, 70.0, 72.0, 71.0, 77.0, 76.0, 74.0, 74.0, 74.0, 74.0, 71.0, 80.0, 77.0, 72.0, 72.0, 73.0, 72.0, 73.0, 73.0, 77.0, 76.0, 79.0, 78.0, 82.0, 79.0, 76.0, 74.0, 74.0, 73.0, 79.0, 77.0, 73.0, 72.0, 72.0, 73.0, 74.0, 77.0, 73.0, 73.0, 72.0, 72.0, 67.0, 71.0, 73.0, 78.0, 71.0, 72.0, 70.0, 72.0, 73.0, 74.0, 81.0, 72.0, 77.0, 69.0, 69.0, 69.0, 78.0, 78.0, 73.0, 72.0, 71.0, 72.0, 72.0, 73.0, 71.0, 70.0, 71.0, 68.0, 72.0, 71.0, 78.0, 81.0, 74.0, 74.0, 73.0, 73.0, 72.0, 73.0, 77.0, 73.0, 73.0, 75.0, 72.0, 72.0, 73.0, 73.0, 75.0, 72.0, 73.0, 70.0, 69.0, 68.0, 75.0, 74.0, 73.0, 70.0, 70.0, 71.0, 70.0, 70.0, 75.0, 74.0, 72.0, 74.0, 73.0, 73.0, 70.0, 73.0, 75.0, 73.0, 69.0, 80.0, 73.0, 72.0, 80.0, 80.0, 69.0, 70.0, 69.0, 72.0, 68.0, 74.0, 75.0, 70.0, 70.0, 72.0, 71.0, 70.0, 77.0, 73.0, 71.0, 76.0, 68.0, 71.0, 70.0, 68.0, 79.0, 75.0, 71.0, 69.0, 71.0, 72.0, 69.0, 72.0, 75.0, 71.0, 72.0, 70.0, 71.0, 72.0, 75.0, 75.0, 71.0, 73.0, 71.0, 71.0, 74.0, 74.0, 78.0, 72.0, 69.0, 69.0, 67.0, 68.0, 65.0, 70.0, 72.0, 74.0, 73.0, 71.0, 75.0, 72.0, 75.0, 76.0, 75.0, 76.0, 75.0, 71.0, 75.0, 75.0, 72.0, 72.0, 75.0, 73.0, 76.0, 74.0, 77.0, 72.0, 71.0, 76.0, 77.0, 80.0, 76.0, 76.0, 77.0, 75.0, 75.0, 75.0, 75.0, 72.0, 74.0, 74.0, 74.0, 76.0, 74.0, 75.0, 73.0, 79.0, 75.0, 72.0, 72.0, 74.0, 72.0, 72.0, 77.0, 71.0, 73.0, 76.0, 77.0, 76.0, 76.0, 74.0, 76.0, 78.0, 74.0, 79.0, 79.0, 69.0, 77.0, 80.0, 75.0, 75.0, 78.0, 71.0, 76.0, 74.0, 78.0, 72.0, 78.0, 85.0, 77.0, 76.0, 76.0, 75.0, 71.0, 70.0, 80.0, 77.0, 70.0, 73.0, 73.0, 76.0, 70.0, 71.0, 80.0, 70.0, 68.0, 74.0, 75.0, 75.0, 78.0, 76.0, 69.0, 73.0, 76.0, 72.0, 72.0, 80.0, 76.0, 71.0, 68.0, 71.0, 72.0, 75.0, 80.0, 75.0, 74.0, 74.0, 69.0, 70.0, 73.0, 76.0, 76.0, 74.0, 71.0, 72.0, 73.0, 77.0, 77.0, 77.0, 79.0, 77.0, 77.0, 78.0, 78.0, 81.0, 76.0, 74.0, 71.0, 78.0, 71.0, 76.0, 81.0, 73.0, 72.0, 72.0, 74.0, 72.0, 79.0, 80.0, 81.0, 75.0, 80.0, 73.0, 74.0, 73.0, 81.0, 79.0, 78.0, 74.0, 74.0, 73.0, 73.0, 77.0, 77.0, 74.0, 73.0, 70.0, 69.0, 72.0, 79.0, 77.0, 70.0, 71.0, 67.0, 66.0, 78.0, 80.0, 80.0, 79.0, 68.0, 67.0, 71.0, 72.0, 79.0, 80.0, 72.0, 68.0, 84.0, 82.0, 79.0, 78.0, 81.0, 77.0, 71.0, 69.0, 73.0, 68.0, 75.0, 79.0, 70.0, 70.0, 73.0, 71.0, 68.0, 78.0, 69.0, 70.0, 67.0, 68.0, 68.0, 71.0, 74.0, 69.0, 69.0, 66.0, 67.0, 69.0, 72.0, 72.0, 72.0, 70.0, 75.0, 73.0, 70.0, 71.0, 70.0, 78.0, 73.0, 68.0, 79.0, 74.0, 75.0, 71.0, 75.0, 76.0, 73.0, 73.0, 74.0, 72.0, 72.0, 72.0, 70.0, 69.0, 73.0, 71.0, 73.0, 72.0, 69.0, 72.0, 66.0, 67.0, 71.0, 71.0, 72.0, 72.0, 71.0, 71.0, 71.0, 69.0, 68.0, 71.0, 73.0, 72.0, 74.0, 70.0, 72.0, 71.0, 71.0, 70.0, 70.0, 69.0, 74.0, 69.0, 72.0, 70.0, 72.0, 72.0, 69.0, 73.0, 71.0, 72.0, 71.0, 72.0, 71.0, 74.0, 74.0, 75.0, 69.0, 75.0, 70.0, 73.0, 72.0, 70.0, 73.0, 71.0, 70.0, 69.0, 71.0, 68.0, 68.0, 68.0, 69.0, 69.0, 69.0, 71.0, 78.0, 72.0, 73.0, 71.0, 72.0, 72.0, 71.0, 74.0, 71.0, 72.0, 72.0, 74.0, 72.0, 69.0, 70.0, 76.0, 70.0, 71.0, 73.0, 68.0, 68.0, 69.0, 70.0, 69.0, 69.0, 70.0, 71.0, 70.0, 67.0, 72.0, 72.0, 75.0, 73.0, 73.0, 72.0, 71.0, 77.0, 73.0, 70.0, 70.0, 76.0, 72.0, 73.0, 77.0, 73.0, 70.0, 68.0, 69.0, 70.0, 70.0, 73.0, 70.0, 69.0, 71.0, 70.0, 70.0, 72.0, 71.0, 70.0, 69.0, 72.0, 72.0, 71.0, 76.0, 71.0, 72.0, 70.0, 72.0, 72.0, 71.0, 72.0, 69.0, 70.0, 73.0, 70.0, 72.0, 72.0, 71.0, 73.0, 72.0, 73.0, 72.0, 71.0, 70.0, 75.0, 72.0, 70.0, 72.0, 70.0, 71.0, 70.0, 73.0, 72.0, 71.0, 71.0, 69.0, 70.0, 73.0, 75.0, 73.0, 72.0, 70.0, 70.0, 69.0, 73.0, 74.0, 72.0, 71.0, 73.0, 72.0, 73.0, 74.0, 72.0, 74.0, 72.0, 74.0, 74.0, 77.0, 74.0, 74.0, 79.0, 75.0, 72.0, 76.0, 74.0, 73.0, 74.0, 77.0, 74.0, 72.0, 77.0, 76.0, 74.0, 75.0, 76.0, 71.0, 73.0, 79.0, 79.0, 74.0, 74.0, 76.0, 75.0]\n"
     ]
    }
   ],
   "source": [
    "#  3. Convert the June temperatures to a list.\n",
    "june_temps_list = [temp.tobs for temp in june_temps]\n",
    "print(june_temps_list)"
   ]
  },
  {
   "cell_type": "code",
   "execution_count": 8,
   "metadata": {},
   "outputs": [],
   "source": [
    "# 4. Create a DataFrame from the list of temperatures for the month of June. \n",
    "june_df = pd.DataFrame(june_temps_list, columns=[\"June Temps\"])"
   ]
  },
  {
   "cell_type": "code",
   "execution_count": 9,
   "metadata": {},
   "outputs": [
    {
     "data": {
      "text/html": [
       "<div>\n",
       "<style scoped>\n",
       "    .dataframe tbody tr th:only-of-type {\n",
       "        vertical-align: middle;\n",
       "    }\n",
       "\n",
       "    .dataframe tbody tr th {\n",
       "        vertical-align: top;\n",
       "    }\n",
       "\n",
       "    .dataframe thead th {\n",
       "        text-align: right;\n",
       "    }\n",
       "</style>\n",
       "<table border=\"1\" class=\"dataframe\">\n",
       "  <thead>\n",
       "    <tr style=\"text-align: right;\">\n",
       "      <th></th>\n",
       "      <th>June Temps</th>\n",
       "    </tr>\n",
       "  </thead>\n",
       "  <tbody>\n",
       "    <tr>\n",
       "      <th>count</th>\n",
       "      <td>1700.000000</td>\n",
       "    </tr>\n",
       "    <tr>\n",
       "      <th>mean</th>\n",
       "      <td>74.944118</td>\n",
       "    </tr>\n",
       "    <tr>\n",
       "      <th>std</th>\n",
       "      <td>3.257417</td>\n",
       "    </tr>\n",
       "    <tr>\n",
       "      <th>min</th>\n",
       "      <td>64.000000</td>\n",
       "    </tr>\n",
       "    <tr>\n",
       "      <th>25%</th>\n",
       "      <td>73.000000</td>\n",
       "    </tr>\n",
       "    <tr>\n",
       "      <th>50%</th>\n",
       "      <td>75.000000</td>\n",
       "    </tr>\n",
       "    <tr>\n",
       "      <th>75%</th>\n",
       "      <td>77.000000</td>\n",
       "    </tr>\n",
       "    <tr>\n",
       "      <th>max</th>\n",
       "      <td>85.000000</td>\n",
       "    </tr>\n",
       "  </tbody>\n",
       "</table>\n",
       "</div>"
      ],
      "text/plain": [
       "        June Temps\n",
       "count  1700.000000\n",
       "mean     74.944118\n",
       "std       3.257417\n",
       "min      64.000000\n",
       "25%      73.000000\n",
       "50%      75.000000\n",
       "75%      77.000000\n",
       "max      85.000000"
      ]
     },
     "execution_count": 9,
     "metadata": {},
     "output_type": "execute_result"
    }
   ],
   "source": [
    "# 5. Calculate and print out the summary statistics for the June temperature DataFrame.\n",
    "june_df.describe()"
   ]
  },
  {
   "cell_type": "markdown",
   "metadata": {},
   "source": [
    "## D2: Determine the Summary Statistics for December"
   ]
  },
  {
   "cell_type": "code",
   "execution_count": 10,
   "metadata": {},
   "outputs": [],
   "source": [
    "# 6. Write a query that filters the Measurement table to retrieve the temperatures for the month of December.\n",
    "december_temps = session.query(Measurement).filter(extract('month', Measurement.date) == 12)"
   ]
  },
  {
   "cell_type": "code",
   "execution_count": 11,
   "metadata": {},
   "outputs": [
    {
     "name": "stdout",
     "output_type": "stream",
     "text": [
      "[76.0, 74.0, 74.0, 64.0, 64.0, 67.0, 77.0, 66.0, 69.0, 68.0, 68.0, 71.0, 74.0, 67.0, 66.0, 69.0, 71.0, 70.0, 70.0, 74.0, 74.0, 71.0, 75.0, 75.0, 72.0, 69.0, 68.0, 73.0, 74.0, 73.0, 73.0, 73.0, 73.0, 71.0, 73.0, 73.0, 77.0, 72.0, 71.0, 73.0, 70.0, 73.0, 69.0, 74.0, 72.0, 71.0, 72.0, 72.0, 70.0, 73.0, 73.0, 72.0, 73.0, 73.0, 72.0, 63.0, 65.0, 71.0, 76.0, 70.0, 76.0, 69.0, 69.0, 69.0, 74.0, 76.0, 74.0, 73.0, 73.0, 74.0, 73.0, 73.0, 73.0, 74.0, 74.0, 71.0, 73.0, 72.0, 64.0, 66.0, 73.0, 72.0, 65.0, 64.0, 69.0, 68.0, 77.0, 71.0, 71.0, 69.0, 68.0, 68.0, 69.0, 70.0, 72.0, 76.0, 75.0, 69.0, 71.0, 71.0, 71.0, 68.0, 65.0, 70.0, 69.0, 69.0, 71.0, 67.0, 73.0, 74.0, 73.0, 67.0, 74.0, 75.0, 75.0, 74.0, 67.0, 73.0, 73.0, 71.0, 72.0, 71.0, 68.0, 65.0, 69.0, 70.0, 70.0, 74.0, 71.0, 74.0, 73.0, 72.0, 74.0, 72.0, 74.0, 75.0, 74.0, 70.0, 74.0, 70.0, 66.0, 61.0, 63.0, 63.0, 63.0, 63.0, 67.0, 56.0, 75.0, 77.0, 75.0, 75.0, 75.0, 75.0, 71.0, 70.0, 74.0, 74.0, 75.0, 72.0, 70.0, 66.0, 74.0, 75.0, 74.0, 75.0, 76.0, 74.0, 75.0, 74.0, 73.0, 68.0, 73.0, 74.0, 74.0, 77.0, 70.0, 70.0, 69.0, 75.0, 72.0, 69.0, 71.0, 68.0, 67.0, 69.0, 73.0, 70.0, 70.0, 70.0, 66.0, 67.0, 70.0, 66.0, 62.0, 71.0, 73.0, 69.0, 77.0, 74.0, 71.0, 72.0, 74.0, 74.0, 74.0, 74.0, 71.0, 73.0, 69.0, 66.0, 73.0, 72.0, 73.0, 74.0, 73.0, 66.0, 64.0, 66.0, 75.0, 65.0, 69.0, 71.0, 69.0, 78.0, 74.0, 68.0, 68.0, 70.0, 70.0, 71.0, 71.0, 71.0, 71.0, 69.0, 69.0, 72.0, 76.0, 72.0, 73.0, 73.0, 74.0, 69.0, 68.0, 74.0, 73.0, 73.0, 72.0, 71.0, 71.0, 68.0, 72.0, 71.0, 72.0, 71.0, 71.0, 72.0, 71.0, 71.0, 72.0, 72.0, 72.0, 69.0, 71.0, 71.0, 69.0, 74.0, 72.0, 71.0, 71.0, 72.0, 71.0, 67.0, 65.0, 70.0, 76.0, 68.0, 71.0, 71.0, 68.0, 70.0, 73.0, 73.0, 72.0, 71.0, 70.0, 72.0, 71.0, 72.0, 72.0, 71.0, 70.0, 71.0, 71.0, 71.0, 66.0, 65.0, 73.0, 72.0, 72.0, 65.0, 65.0, 68.0, 67.0, 76.0, 70.0, 71.0, 69.0, 67.0, 69.0, 71.0, 69.0, 72.0, 76.0, 75.0, 72.0, 75.0, 71.0, 69.0, 68.0, 68.0, 72.0, 70.0, 72.0, 75.0, 69.0, 72.0, 73.0, 73.0, 72.0, 73.0, 74.0, 73.0, 72.0, 68.0, 72.0, 71.0, 69.0, 67.0, 70.0, 72.0, 67.0, 67.0, 69.0, 67.0, 74.0, 70.0, 73.0, 71.0, 71.0, 71.0, 71.0, 72.0, 76.0, 78.0, 76.0, 73.0, 70.0, 68.0, 77.0, 66.0, 65.0, 69.0, 69.0, 66.0, 64.0, 74.0, 75.0, 80.0, 72.0, 73.0, 70.0, 69.0, 77.0, 74.0, 77.0, 72.0, 69.0, 69.0, 75.0, 75.0, 72.0, 73.0, 78.0, 75.0, 75.0, 74.0, 73.0, 70.0, 70.0, 72.0, 74.0, 74.0, 67.0, 74.0, 70.0, 73.0, 71.0, 71.0, 69.0, 68.0, 70.0, 71.0, 72.0, 70.0, 71.0, 72.0, 68.0, 68.0, 70.0, 70.0, 63.0, 71.0, 67.0, 69.0, 74.0, 72.0, 70.0, 69.0, 73.0, 74.0, 74.0, 73.0, 71.0, 72.0, 69.0, 71.0, 73.0, 73.0, 71.0, 72.0, 71.0, 64.0, 71.0, 62.0, 70.0, 64.0, 64.0, 70.0, 70.0, 69.0, 72.0, 68.0, 68.0, 65.0, 67.0, 68.0, 70.0, 67.0, 73.0, 70.0, 68.0, 72.0, 69.0, 71.0, 70.0, 75.0, 70.0, 68.0, 73.0, 71.0, 71.0, 70.0, 70.0, 70.0, 70.0, 72.0, 74.0, 71.0, 70.0, 70.0, 69.0, 71.0, 70.0, 70.0, 72.0, 72.0, 72.0, 72.0, 72.0, 70.0, 66.0, 71.0, 68.0, 79.0, 76.0, 73.0, 75.0, 71.0, 76.0, 74.0, 73.0, 73.0, 74.0, 73.0, 72.0, 76.0, 75.0, 77.0, 74.0, 76.0, 75.0, 76.0, 73.0, 75.0, 73.0, 73.0, 74.0, 78.0, 78.0, 78.0, 75.0, 75.0, 75.0, 74.0, 77.0, 72.0, 72.0, 73.0, 71.0, 75.0, 76.0, 74.0, 75.0, 74.0, 75.0, 73.0, 72.0, 72.0, 75.0, 74.0, 74.0, 72.0, 73.0, 70.0, 76.0, 78.0, 76.0, 78.0, 74.0, 71.0, 78.0, 70.0, 74.0, 74.0, 75.0, 76.0, 78.0, 72.0, 73.0, 76.0, 72.0, 72.0, 78.0, 76.0, 76.0, 77.0, 79.0, 73.0, 79.0, 77.0, 78.0, 76.0, 78.0, 77.0, 79.0, 75.0, 77.0, 76.0, 78.0, 78.0, 77.0, 78.0, 78.0, 76.0, 75.0, 72.0, 75.0, 77.0, 75.0, 77.0, 76.0, 76.0, 75.0, 72.0, 76.0, 75.0, 72.0, 72.0, 75.0, 69.0, 75.0, 74.0, 78.0, 77.0, 76.0, 72.0, 73.0, 74.0, 74.0, 74.0, 73.0, 73.0, 71.0, 72.0, 72.0, 75.0, 66.0, 66.0, 67.0, 76.0, 68.0, 69.0, 71.0, 70.0, 68.0, 66.0, 69.0, 69.0, 71.0, 72.0, 69.0, 72.0, 70.0, 76.0, 69.0, 71.0, 72.0, 71.0, 78.0, 73.0, 74.0, 68.0, 71.0, 76.0, 75.0, 74.0, 73.0, 73.0, 74.0, 69.0, 74.0, 72.0, 70.0, 67.0, 69.0, 73.0, 75.0, 74.0, 72.0, 71.0, 67.0, 74.0, 70.0, 70.0, 70.0, 71.0, 70.0, 71.0, 71.0, 68.0, 74.0, 75.0, 74.0, 77.0, 76.0, 77.0, 75.0, 76.0, 75.0, 77.0, 75.0, 77.0, 74.0, 78.0, 77.0, 76.0, 69.0, 70.0, 64.0, 75.0, 69.0, 65.0, 76.0, 81.0, 71.0, 71.0, 71.0, 82.0, 74.0, 75.0, 77.0, 74.0, 68.0, 72.0, 70.0, 68.0, 74.0, 71.0, 70.0, 70.0, 70.0, 68.0, 68.0, 68.0, 66.0, 71.0, 76.0, 73.0, 70.0, 68.0, 71.0, 71.0, 68.0, 71.0, 70.0, 73.0, 78.0, 76.0, 73.0, 74.0, 63.0, 72.0, 75.0, 74.0, 72.0, 68.0, 74.0, 73.0, 73.0, 72.0, 73.0, 72.0, 78.0, 74.0, 74.0, 78.0, 78.0, 61.0, 69.0, 65.0, 77.0, 67.0, 69.0, 75.0, 67.0, 71.0, 74.0, 66.0, 66.0, 77.0, 70.0, 73.0, 71.0, 71.0, 71.0, 67.0, 71.0, 74.0, 76.0, 72.0, 74.0, 75.0, 69.0, 69.0, 69.0, 75.0, 73.0, 73.0, 72.0, 72.0, 72.0, 74.0, 72.0, 73.0, 73.0, 73.0, 73.0, 74.0, 73.0, 71.0, 72.0, 73.0, 74.0, 72.0, 73.0, 73.0, 71.0, 73.0, 75.0, 71.0, 72.0, 73.0, 71.0, 65.0, 77.0, 72.0, 78.0, 71.0, 72.0, 71.0, 72.0, 76.0, 75.0, 75.0, 76.0, 73.0, 72.0, 74.0, 74.0, 74.0, 73.0, 77.0, 73.0, 70.0, 72.0, 76.0, 65.0, 74.0, 73.0, 77.0, 76.0, 69.0, 78.0, 76.0, 68.0, 76.0, 68.0, 79.0, 69.0, 64.0, 70.0, 69.0, 73.0, 70.0, 74.0, 76.0, 76.0, 69.0, 73.0, 73.0, 65.0, 70.0, 72.0, 72.0, 75.0, 74.0, 69.0, 73.0, 75.0, 76.0, 74.0, 73.0, 74.0, 71.0, 72.0, 73.0, 72.0, 72.0, 73.0, 72.0, 75.0, 76.0, 67.0, 69.0, 70.0, 75.0, 74.0, 71.0, 74.0, 71.0, 72.0, 74.0, 75.0, 73.0, 75.0, 76.0, 68.0, 71.0, 68.0, 66.0, 63.0, 62.0, 67.0, 68.0, 63.0, 56.0, 76.0, 75.0, 74.0, 76.0, 69.0, 71.0, 72.0, 74.0, 75.0, 72.0, 78.0, 69.0, 75.0, 75.0, 74.0, 74.0, 76.0, 73.0, 75.0, 75.0, 74.0, 79.0, 75.0, 76.0, 76.0, 69.0, 72.0, 76.0, 75.0, 75.0, 75.0, 70.0, 70.0, 74.0, 73.0, 72.0, 78.0, 67.0, 69.0, 71.0, 74.0, 63.0, 76.0, 76.0, 71.0, 76.0, 77.0, 73.0, 71.0, 78.0, 78.0, 75.0, 75.0, 72.0, 77.0, 72.0, 72.0, 71.0, 72.0, 74.0, 66.0, 61.0, 58.0, 60.0, 71.0, 65.0, 72.0, 70.0, 68.0, 67.0, 71.0, 65.0, 64.0, 65.0, 69.0, 70.0, 70.0, 68.0, 69.0, 71.0, 70.0, 71.0, 76.0, 71.0, 72.0, 73.0, 77.0, 67.0, 69.0, 72.0, 74.0, 71.0, 70.0, 68.0, 70.0, 66.0, 72.0, 70.0, 70.0, 70.0, 70.0, 73.0, 71.0, 69.0, 73.0, 72.0, 71.0, 69.0, 70.0, 69.0, 70.0, 75.0, 71.0, 70.0, 69.0, 71.0, 65.0, 67.0, 72.0, 67.0, 76.0, 67.0, 72.0, 69.0, 66.0, 75.0, 74.0, 72.0, 72.0, 72.0, 68.0, 74.0, 73.0, 73.0, 72.0, 70.0, 70.0, 71.0, 70.0, 72.0, 65.0, 62.0, 73.0, 71.0, 70.0, 62.0, 69.0, 69.0, 66.0, 72.0, 73.0, 70.0, 66.0, 64.0, 65.0, 73.0, 74.0, 67.0, 73.0, 70.0, 67.0, 71.0, 78.0, 69.0, 63.0, 64.0, 66.0, 69.0, 69.0, 71.0, 72.0, 69.0, 70.0, 73.0, 68.0, 69.0, 73.0, 73.0, 70.0, 65.0, 70.0, 68.0, 68.0, 66.0, 68.0, 65.0, 62.0, 62.0, 65.0, 61.0, 70.0, 68.0, 67.0, 68.0, 71.0, 69.0, 71.0, 71.0, 71.0, 72.0, 72.0, 68.0, 69.0, 66.0, 60.0, 63.0, 68.0, 64.0, 63.0, 63.0, 59.0, 73.0, 74.0, 75.0, 75.0, 70.0, 72.0, 69.0, 68.0, 74.0, 72.0, 75.0, 79.0, 69.0, 67.0, 73.0, 74.0, 75.0, 72.0, 76.0, 74.0, 75.0, 74.0, 74.0, 76.0, 74.0, 75.0, 75.0, 73.0, 76.0, 74.0, 73.0, 74.0, 70.0, 72.0, 70.0, 67.0, 67.0, 69.0, 70.0, 68.0, 69.0, 69.0, 66.0, 65.0, 68.0, 62.0, 75.0, 70.0, 69.0, 76.0, 76.0, 74.0, 73.0, 71.0, 74.0, 74.0, 72.0, 71.0, 72.0, 74.0, 69.0, 67.0, 70.0, 74.0, 74.0, 75.0, 69.0, 65.0, 66.0, 68.0, 77.0, 65.0, 72.0, 65.0, 66.0, 74.0, 66.0, 63.0, 63.0, 69.0, 69.0, 73.0, 72.0, 68.0, 67.0, 69.0, 74.0, 72.0, 76.0, 70.0, 73.0, 70.0, 76.0, 66.0, 69.0, 69.0, 70.0, 71.0, 73.0, 65.0, 71.0, 65.0, 75.0, 72.0, 74.0, 67.0, 65.0, 68.0, 66.0, 73.0, 74.0, 76.0, 72.0, 69.0, 71.0, 70.0, 70.0, 73.0, 71.0, 76.0, 72.0, 77.0, 70.0, 65.0, 72.0, 75.0, 68.0, 72.0, 64.0, 75.0, 69.0, 80.0, 73.0, 73.0, 73.0, 72.0, 73.0, 75.0, 76.0, 74.0, 72.0, 72.0, 70.0, 70.0, 71.0, 61.0, 65.0, 74.0, 71.0, 63.0, 64.0, 66.0, 68.0, 66.0, 70.0, 68.0, 68.0, 66.0, 75.0, 67.0, 70.0, 72.0, 69.0, 72.0, 69.0, 65.0, 71.0, 73.0, 69.0, 69.0, 63.0, 63.0, 71.0, 79.0, 67.0, 67.0, 64.0, 63.0, 68.0, 77.0, 79.0, 74.0, 68.0, 64.0, 70.0, 62.0, 68.0, 67.0, 70.0, 66.0, 64.0, 62.0, 64.0, 63.0, 69.0, 64.0, 70.0, 72.0, 72.0, 64.0, 71.0, 68.0, 81.0, 78.0, 69.0, 72.0, 70.0, 62.0, 76.0, 72.0, 76.0, 57.0, 64.0, 57.0, 71.0, 70.0, 67.0, 77.0, 69.0, 61.0, 62.0, 63.0, 73.0, 64.0, 67.0, 69.0, 80.0, 71.0, 73.0, 65.0, 68.0, 68.0, 69.0, 72.0, 69.0, 69.0, 67.0, 69.0, 73.0, 71.0, 71.0, 70.0, 71.0, 70.0, 75.0, 71.0, 73.0, 71.0, 71.0, 68.0, 67.0, 70.0, 67.0, 69.0, 71.0, 69.0, 69.0, 68.0, 69.0, 69.0, 67.0, 69.0, 68.0, 70.0, 68.0, 69.0, 71.0, 65.0, 69.0, 69.0, 69.0, 69.0, 70.0, 73.0, 67.0, 74.0, 77.0, 74.0, 73.0, 71.0, 73.0, 68.0, 69.0, 71.0, 72.0, 72.0, 67.0, 67.0, 69.0, 66.0, 66.0, 69.0, 66.0, 68.0, 65.0, 68.0, 67.0, 71.0, 65.0, 71.0, 69.0, 69.0, 62.0, 62.0, 67.0, 65.0, 68.0, 67.0, 75.0, 68.0, 68.0, 70.0, 83.0, 68.0, 70.0, 70.0, 68.0, 76.0, 72.0, 68.0, 64.0, 72.0, 72.0, 68.0, 70.0, 69.0, 68.0, 70.0, 67.0, 70.0, 70.0, 71.0, 70.0, 69.0, 71.0, 68.0, 70.0, 67.0, 70.0, 73.0, 70.0, 66.0, 70.0, 72.0, 71.0, 68.0, 71.0, 67.0, 65.0, 66.0, 70.0, 69.0, 70.0, 72.0, 67.0, 68.0, 64.0, 66.0, 65.0, 62.0, 68.0, 67.0, 73.0, 70.0, 71.0, 71.0, 70.0, 71.0, 69.0, 70.0, 73.0, 70.0, 72.0, 71.0, 69.0, 74.0, 73.0, 69.0, 71.0, 68.0, 72.0, 71.0, 70.0, 72.0, 71.0, 69.0, 71.0, 67.0, 71.0, 69.0, 71.0, 71.0, 67.0, 76.0, 67.0, 67.0, 68.0, 71.0, 68.0, 68.0, 69.0, 65.0, 70.0, 69.0, 64.0, 60.0, 67.0, 72.0, 73.0, 70.0, 68.0, 69.0, 69.0, 69.0, 71.0, 71.0, 71.0, 69.0, 65.0, 65.0]\n"
     ]
    }
   ],
   "source": [
    "# 7. Convert the December temperatures to a list.\n",
    "december_temps_list = [temp.tobs for temp in december_temps]\n",
    "print(december_temps_list)"
   ]
  },
  {
   "cell_type": "code",
   "execution_count": 12,
   "metadata": {},
   "outputs": [],
   "source": [
    "# 8. Create a DataFrame from the list of temperatures for the month of December. \n",
    "december_df = pd.DataFrame(december_temps_list, columns=[\"December Temps\"])"
   ]
  },
  {
   "cell_type": "code",
   "execution_count": 13,
   "metadata": {},
   "outputs": [
    {
     "data": {
      "text/html": [
       "<div>\n",
       "<style scoped>\n",
       "    .dataframe tbody tr th:only-of-type {\n",
       "        vertical-align: middle;\n",
       "    }\n",
       "\n",
       "    .dataframe tbody tr th {\n",
       "        vertical-align: top;\n",
       "    }\n",
       "\n",
       "    .dataframe thead th {\n",
       "        text-align: right;\n",
       "    }\n",
       "</style>\n",
       "<table border=\"1\" class=\"dataframe\">\n",
       "  <thead>\n",
       "    <tr style=\"text-align: right;\">\n",
       "      <th></th>\n",
       "      <th>December Temps</th>\n",
       "    </tr>\n",
       "  </thead>\n",
       "  <tbody>\n",
       "    <tr>\n",
       "      <th>count</th>\n",
       "      <td>1517.000000</td>\n",
       "    </tr>\n",
       "    <tr>\n",
       "      <th>mean</th>\n",
       "      <td>71.041529</td>\n",
       "    </tr>\n",
       "    <tr>\n",
       "      <th>std</th>\n",
       "      <td>3.745920</td>\n",
       "    </tr>\n",
       "    <tr>\n",
       "      <th>min</th>\n",
       "      <td>56.000000</td>\n",
       "    </tr>\n",
       "    <tr>\n",
       "      <th>25%</th>\n",
       "      <td>69.000000</td>\n",
       "    </tr>\n",
       "    <tr>\n",
       "      <th>50%</th>\n",
       "      <td>71.000000</td>\n",
       "    </tr>\n",
       "    <tr>\n",
       "      <th>75%</th>\n",
       "      <td>74.000000</td>\n",
       "    </tr>\n",
       "    <tr>\n",
       "      <th>max</th>\n",
       "      <td>83.000000</td>\n",
       "    </tr>\n",
       "  </tbody>\n",
       "</table>\n",
       "</div>"
      ],
      "text/plain": [
       "       December Temps\n",
       "count     1517.000000\n",
       "mean        71.041529\n",
       "std          3.745920\n",
       "min         56.000000\n",
       "25%         69.000000\n",
       "50%         71.000000\n",
       "75%         74.000000\n",
       "max         83.000000"
      ]
     },
     "execution_count": 13,
     "metadata": {},
     "output_type": "execute_result"
    }
   ],
   "source": [
    "# 9. Calculate and print out the summary statistics for the Decemeber temperature DataFrame.\n",
    "december_df.describe()"
   ]
  },
  {
   "cell_type": "code",
   "execution_count": 14,
   "metadata": {},
   "outputs": [
    {
     "data": {
      "image/png": "[encoded data removed]",
      "text/plain": [
       "<Figure size 432x288 with 1 Axes>"
      ]
     },
     "metadata": {},
     "output_type": "display_data"
    }
   ],
   "source": [
    "# Graph Temperature data from June\n",
    "june_df.plot.hist(bins=12)\n",
    "plt.xlim([55, 85])\n",
    "plt.ylim([0, 380])\n",
    "lgnd = plt.legend(fontsize=\"11\",loc=\"best\")\n",
    "plt.tight_layout()"
   ]
  },
  {
   "cell_type": "code",
   "execution_count": 15,
   "metadata": {},
   "outputs": [
    {
     "data": {
      "image/png": "[encoded data removed]",
      "text/plain": [
       "<Figure size 432x288 with 1 Axes>"
      ]
     },
     "metadata": {},
     "output_type": "display_data"
    }
   ],
   "source": [
    "# Graph Temperature data from December\n",
    "december_df.plot.hist(bins=12)\n",
    "plt.xlim([55, 85])\n",
    "plt.ylim([0, 380])\n",
    "lgnd = plt.legend(fontsize=\"12\",loc=\"best\")\n",
    "plt.tight_layout()"
   ]
  },
  {
   "cell_type": "code",
   "execution_count": null,
   "metadata": {},
   "outputs": [],
   "source": []
  },
  {
   "cell_type": "code",
   "execution_count": null,
   "metadata": {},
   "outputs": [],
   "source": []
  }
 ],
 "metadata": {
  "kernelspec": {
   "display_name": "mlenv",
   "language": "python",
   "name": "mlenv"
  },
  "language_info": {
   "codemirror_mode": {
    "name": "ipython",
    "version": 3
   },
   "file_extension": ".py",
   "mimetype": "text/x-python",
   "name": "python",
   "nbconvert_exporter": "python",
   "pygments_lexer": "ipython3",
   "version": "3.7.13"
  }
 },
 "nbformat": 4,
 "nbformat_minor": 2
}
